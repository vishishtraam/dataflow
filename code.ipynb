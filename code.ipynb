{
 "cells": [
  {
   "cell_type": "code",
   "execution_count": null,
   "id": "589f8390",
   "metadata": {},
   "outputs": [],
   "source": [
    "# Adidas US Sales Analysis: Robust, Dynamic, Error-Free\n",
    "import pandas as pd\n",
    "import numpy as np\n",
    "from pathlib import Path\n",
    "import matplotlib.pyplot as plt\n",
    "import seaborn as sns\n",
    "import os\n",
    "\n",
    "# Utility: Get latest data file from a directory\n",
    "\n",
    "def get_latest_data(directory, pattern='*.xlsx'):\n",
    "    \"\"\"\n",
    "    Get the most recently modified Excel/CSV file from the specified directory.\n",
    "    \n",
    "    Args:\n",
    "        directory (str or Path): Directory to search for files\n",
    "        pattern (str): File pattern to match (default: '*.xlsx')\n",
    "        \n",
    "    Returns:\n",
    "        pandas.DataFrame: Data from the most recent file\n",
    "    \"\"\"\n",
    "    cleaned_dir = Path(directory)\n",
    "    files = list(cleaned_dir.glob(pattern))\n",
    "    if not files:\n",
    "        files = list(cleaned_dir.glob('*.csv'))\n",
    "        if not files:\n",
    "            raise FileNotFoundError(f\"No {pattern} or CSV files found in {cleaned_dir}\")\n",
    "    latest_file = max(files, key=lambda f: f.stat().st_mtime)\n",
    "    print(f\"Loading file: {latest_file}\")\n",
    "    if latest_file.suffix.lower() == '.csv':\n",
    "        return pd.read_csv(latest_file)\n",
    "    else:\n",
    "        return pd.read_excel(latest_file)"
   ]
  },
  {
   "cell_type": "markdown",
   "id": "f0762a2c",
   "metadata": {},
   "source": [
    "# Adidas US Sales Analysis\n",
    "\n",
    "This notebook provides a robust, dynamic workflow for loading, cleaning, and visualizing Adidas US Sales data. All steps are organized for clarity and error-free execution."
   ]
  },
  {
   "cell_type": "markdown",
   "id": "631c0f3a",
   "metadata": {},
   "source": [
    "## Data Loading & Cleaning\n",
    "\n",
    "This section installs required packages, loads the latest cleaned data, and performs robust cleaning with diagnostics."
   ]
  },
  {
   "cell_type": "code",
   "execution_count": null,
   "id": "77ebd840",
   "metadata": {},
   "outputs": [],
   "source": [
    "# Install required packages (run once)\n",
    "%pip install matplotlib seaborn openpyxl"
   ]
  },
  {
   "cell_type": "code",
   "execution_count": null,
   "id": "617af3c3",
   "metadata": {},
   "outputs": [],
   "source": [
    "# Load the latest cleaned Adidas US Sales data\n",
    "try:\n",
    "    # Update the path to your cleaned data directory\n",
    "    cleaned_data_dir = '../cleaned_data'  # or 'cleaned_data' if running from project root\n",
    "    df = get_latest_data(cleaned_data_dir)\n",
    "    print(f\"Data loaded. Shape: {df.shape}\")\n",
    "    print(f\"Columns: {df.columns.tolist()}\")\n",
    "except Exception as e:\n",
    "    print(f\"Error loading data: {e}\")\n",
    "    df = None"
   ]
  },
  {
   "cell_type": "code",
   "execution_count": null,
   "id": "b0549ed8",
   "metadata": {},
   "outputs": [],
   "source": [
    "# Data cleaning: Drop rows with missing values in required columns\n",
    "required_columns = ['Retailer', 'Product', 'Total Sales', 'Operating Profit', 'State', 'Order Date']\n",
    "if df is not None:\n",
    "    missing_cols = [col for col in required_columns if col not in df.columns]\n",
    "    if missing_cols:\n",
    "        print(f\"Missing columns: {missing_cols}. Cleaning will skip these.\")\n",
    "    for col in required_columns:\n",
    "        if col in df.columns:\n",
    "            df = df.dropna(subset=[col])\n",
    "    print(f\"Data cleaned. Shape: {df.shape}\")\n",
    "else:\n",
    "    print(\"No data loaded. Skipping cleaning.\")"
   ]
  },
  {
   "cell_type": "markdown",
   "id": "ca5dc0b6",
   "metadata": {},
   "source": [
    "## Visualization & Analysis\n",
    "\n",
    "This section provides robust visualizations and analysis of the cleaned Adidas US Sales data, with error handling for missing columns."
   ]
  },
  {
   "cell_type": "code",
   "execution_count": null,
   "id": "745c6536",
   "metadata": {},
   "outputs": [
    {
     "name": "stdout",
     "output_type": "stream",
     "text": [
      "DataFrame 'df' is not defined, is None, or required columns are missing.\n"
     ]
    }
   ],
   "source": [
    "# Visualization: Total Sales by Product\n",
    "if df is not None and 'Product' in df.columns and 'Total Sales' in df.columns:\n",
    "    plt.figure(figsize=(12,6))\n",
    "    sales_by_product = df.groupby('Product')['Total Sales'].sum().sort_values(ascending=False)\n",
    "    sns.barplot(x=sales_by_product.index, y=sales_by_product.values)\n",
    "    plt.xticks(rotation=90)\n",
    "    plt.title('Total Sales by Product')\n",
    "    plt.xlabel('Product')\n",
    "    plt.ylabel('Total Sales')\n",
    "    plt.tight_layout()\n",
    "    plt.show()\n",
    "else:\n",
    "    print(\"Required columns for plotting ('Product', 'Total Sales') are missing or data not loaded.\")"
   ]
  },
  {
   "cell_type": "code",
   "execution_count": 7,
   "id": "086aabc7",
   "metadata": {},
   "outputs": [
    {
     "ename": "NameError",
     "evalue": "name 'df' is not defined",
     "output_type": "error",
     "traceback": [
      "\u001b[31m---------------------------------------------------------------------------\u001b[39m",
      "\u001b[31mNameError\u001b[39m                                 Traceback (most recent call last)",
      "\u001b[36mCell\u001b[39m\u001b[36m \u001b[39m\u001b[32mIn[7]\u001b[39m\u001b[32m, line 2\u001b[39m\n\u001b[32m      1\u001b[39m \u001b[38;5;66;03m# Visualization: Total Sales by State\u001b[39;00m\n\u001b[32m----> \u001b[39m\u001b[32m2\u001b[39m \u001b[38;5;28;01mif\u001b[39;00m \u001b[43mdf\u001b[49m \u001b[38;5;129;01mis\u001b[39;00m \u001b[38;5;129;01mnot\u001b[39;00m \u001b[38;5;28;01mNone\u001b[39;00m \u001b[38;5;129;01mand\u001b[39;00m \u001b[33m'\u001b[39m\u001b[33mState\u001b[39m\u001b[33m'\u001b[39m \u001b[38;5;129;01min\u001b[39;00m df.columns \u001b[38;5;129;01mand\u001b[39;00m \u001b[33m'\u001b[39m\u001b[33mTotal Sales\u001b[39m\u001b[33m'\u001b[39m \u001b[38;5;129;01min\u001b[39;00m df.columns:\n\u001b[32m      3\u001b[39m     plt.figure(figsize=(\u001b[32m12\u001b[39m,\u001b[32m6\u001b[39m))\n\u001b[32m      4\u001b[39m     sales_by_state = df.groupby(\u001b[33m'\u001b[39m\u001b[33mState\u001b[39m\u001b[33m'\u001b[39m)[\u001b[33m'\u001b[39m\u001b[33mTotal Sales\u001b[39m\u001b[33m'\u001b[39m].sum().sort_values(ascending=\u001b[38;5;28;01mFalse\u001b[39;00m)\n",
      "\u001b[31mNameError\u001b[39m: name 'df' is not defined"
     ]
    }
   ],
   "source": [
    "# Visualization: Total Sales by State\n",
    "if df is not None and 'State' in df.columns and 'Total Sales' in df.columns:\n",
    "    plt.figure(figsize=(12,6))\n",
    "    sales_by_state = df.groupby('State')['Total Sales'].sum().sort_values(ascending=False)\n",
    "    sns.barplot(x=sales_by_state.index, y=sales_by_state.values)\n",
    "    plt.xticks(rotation=90)\n",
    "    plt.title('Total Sales by State')\n",
    "    plt.xlabel('State')\n",
    "    plt.ylabel('Total Sales')\n",
    "    plt.tight_layout()\n",
    "    plt.show()\n",
    "else:\n",
    "    print(\"Required columns for plotting ('State', 'Total Sales') are missing or data not loaded.\")"
   ]
  },
  {
   "cell_type": "code",
   "execution_count": null,
   "id": "c8759e36",
   "metadata": {},
   "outputs": [
    {
     "name": "stdout",
     "output_type": "stream",
     "text": [
      "DataFrame 'df' is not defined, is None, or required columns are missing.\n"
     ]
    }
   ],
   "source": [
    "# Visualization: Operating Profit by Retailer\n",
    "if df is not None and 'Retailer' in df.columns and 'Operating Profit' in df.columns:\n",
    "    plt.figure(figsize=(12,6))\n",
    "    profit_by_retailer = df.groupby('Retailer')['Operating Profit'].sum().sort_values(ascending=False)\n",
    "    sns.barplot(x=profit_by_retailer.index, y=profit_by_retailer.values)\n",
    "    plt.xticks(rotation=90)\n",
    "    plt.title('Operating Profit by Retailer')\n",
    "    plt.xlabel('Retailer')\n",
    "    plt.ylabel('Operating Profit')\n",
    "    plt.tight_layout()\n",
    "    plt.show()\n",
    "else:\n",
    "    print(\"Required columns for plotting ('Retailer', 'Operating Profit') are missing or data not loaded.\")"
   ]
  }
 ],
 "metadata": {
  "kernelspec": {
   "display_name": "pandas",
   "language": "python",
   "name": "python3"
  },
  "language_info": {
   "codemirror_mode": {
    "name": "ipython",
    "version": 3
   },
   "file_extension": ".py",
   "mimetype": "text/x-python",
   "name": "python",
   "nbconvert_exporter": "python",
   "pygments_lexer": "ipython3",
   "version": "3.13.5"
  }
 },
 "nbformat": 4,
 "nbformat_minor": 5
}
